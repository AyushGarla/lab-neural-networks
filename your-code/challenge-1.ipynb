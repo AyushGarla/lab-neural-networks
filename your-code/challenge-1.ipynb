{
  "cells": [
    {
      "cell_type": "markdown",
      "metadata": {
        "id": "cmPv74dJzG2A"
      },
      "source": [
        "# Challenge 1 - Tic Tac Toe\n",
        "\n",
        "In this lab you will perform deep learning analysis on a dataset of playing [Tic Tac Toe](https://en.wikipedia.org/wiki/Tic-tac-toe).\n",
        "\n",
        "There are 9 grids in Tic Tac Toe that are coded as the following picture shows:\n",
        "\n",
        "![Tic Tac Toe Grids](tttboard.jpg)\n",
        "\n",
        "In the first 9 columns of the dataset you can find which marks (`x` or `o`) exist in the grids. If there is no mark in a certain grid, it is labeled as `b`. The last column is `class` which tells you whether Player X (who always moves first in Tic Tac Toe) wins in this configuration. Note that when `class` has the value `False`, it means either Player O wins the game or it ends up as a draw."
      ]
    },
    {
      "cell_type": "markdown",
      "metadata": {
        "id": "1fhZynYwzG2D"
      },
      "source": [
        "Follow the steps suggested below to conduct a neural network analysis using Tensorflow and Keras. You will build a deep learning model to predict whether Player X wins the game or not.\n",
        "\n",
        "## Step 1: Data Engineering\n",
        "\n",
        "This dataset is almost in the ready-to-use state so you do not need to worry about missing values and so on. Still, some simple data engineering is needed.\n",
        "\n",
        "1. Read `tic-tac-toe.csv` into a dataframe.\n",
        "1. Inspect the dataset. Determine if the dataset is reliable by eyeballing the data.\n",
        "1. Convert the categorical values to numeric in all columns.\n",
        "1. Separate the inputs and output.\n",
        "1. Normalize the input data."
      ]
    },
    {
      "cell_type": "code",
      "execution_count": null,
      "metadata": {
        "id": "Gue2nyq4zG2E"
      },
      "outputs": [],
      "source": [
        "import pandas as pd"
      ]
    },
    {
      "cell_type": "code",
      "execution_count": null,
      "metadata": {
        "id": "9baSduI4zG2F"
      },
      "outputs": [],
      "source": [
        "#1\n",
        "\n",
        "tic_tac = pd.read_csv('tic-tac-toe.csv')"
      ]
    },
    {
      "cell_type": "code",
      "execution_count": null,
      "metadata": {
        "id": "jRYLEhzfzG2F"
      },
      "outputs": [],
      "source": [
        "tic_tac.info()"
      ]
    },
    {
      "cell_type": "code",
      "execution_count": null,
      "metadata": {
        "id": "RhRgOVq3zG2G"
      },
      "outputs": [],
      "source": [
        "#3\n",
        "\n",
        "mapping = {'x':  1,\n",
        "           'o': -1,\n",
        "           'b':  0}\n",
        "\n",
        "for col in ['TL','TM','TR','ML','MM','MR','BL','BM','BR']:\n",
        "    tic_tac[col] = tic_tac[col].map(mapping)\n",
        "\n",
        "tic_tac['class'] = tic_tac['class'].astype(int)\n",
        "\n",
        "tic_tac.info()\n"
      ]
    },
    {
      "cell_type": "code",
      "execution_count": null,
      "metadata": {
        "id": "eMa0EJM5zG2H"
      },
      "outputs": [],
      "source": [
        "#4\n",
        "\n",
        "X = tic_tac.iloc[:, 0:9]\n",
        "y = tic_tac.iloc[:, 9]"
      ]
    },
    {
      "cell_type": "code",
      "execution_count": null,
      "metadata": {
        "id": "QVP4uan7zG2H"
      },
      "outputs": [],
      "source": [
        "from sklearn.preprocessing import StandardScaler\n",
        "\n",
        "scaler = StandardScaler()\n",
        "X_normalized = scaler.fit_transform(X)\n"
      ]
    },
    {
      "cell_type": "markdown",
      "metadata": {
        "id": "dvU0AByizG2I"
      },
      "source": [
        "## Step 2: Build Neural Network\n",
        "\n",
        "To build the neural network, you can refer to your own codes you wrote while following the [Deep Learning with Python, TensorFlow, and Keras tutorial](https://www.youtube.com/watch?v=wQ8BIBpya2k) in the lesson. It's pretty similar to what you will be doing in this lab.\n",
        "\n",
        "1. Split the training and test data.\n",
        "1. Create a `Sequential` model.\n",
        "1. Add several layers to your model. Make sure you use ReLU as the activation function for the middle layers. Use Softmax for the output layer because each output has a single lable and all the label probabilities add up to 1.\n",
        "1. Compile the model using `adam` as the optimizer and `sparse_categorical_crossentropy` as the loss function. For metrics, use `accuracy` for now.\n",
        "1. Fit the training data.\n",
        "1. Evaluate your neural network model with the test data.\n",
        "1. Save your model as `tic-tac-toe.model`."
      ]
    },
    {
      "cell_type": "code",
      "execution_count": null,
      "metadata": {
        "id": "9yxFsRuDzG2I"
      },
      "outputs": [],
      "source": [
        "#1\n",
        "\n",
        "from sklearn.model_selection import train_test_split\n",
        "\n",
        "X_train, X_test, y_train, y_test = train_test_split(\n",
        "    X_normalized,    # normalized inputs\n",
        "    y,               # targets\n",
        "    test_size=0.2,   # 20% test, 80% train\n",
        "    random_state=42, # for reproducibility\n",
        "    stratify=y       # preserve class balance\n",
        ")\n",
        "\n",
        "# quick sanity check\n",
        "print(X_train.shape, X_test.shape, y_train.shape, y_test.shape)\n",
        "# e.g. (766, 9) (192, 9) (766,) (192,)\n"
      ]
    },
    {
      "cell_type": "code",
      "execution_count": null,
      "metadata": {
        "id": "_RKWVfcKzG2J"
      },
      "outputs": [],
      "source": [
        "#2\n",
        "\n",
        "import tensorflow as tf\n",
        "from tensorflow.keras.models import Sequential\n",
        "from tensorflow.keras.layers import Dense\n",
        "\n",
        "# 1. Instantiate\n",
        "model = Sequential([\n",
        "    # first hidden layer; specify input shape = 9 features\n",
        "    Dense(16, activation='relu', input_shape=(9,)),\n",
        "    # second hidden layer\n",
        "    Dense(8, activation='relu'),\n",
        "    # output layer for binary classification\n",
        "    Dense(1, activation='sigmoid')\n",
        "])\n",
        "\n",
        "# 2. (Optional) view the architecture\n",
        "model.summary()\n"
      ]
    },
    {
      "cell_type": "code",
      "source": [
        "#3\n",
        "\n",
        "# If you installed tensorflow:\n",
        "# from tensorflow.keras.models import Sequential\n",
        "# from tensorflow.keras.layers import Dense\n",
        "\n",
        "# If you installed standalone keras:\n",
        "from keras.models import Sequential\n",
        "from keras.layers import Dense\n",
        "\n",
        "# Example assumes you’ll feed in X of shape (n_samples, 9)\n",
        "# and y as integer labels 0 or 1 (we’ll use sparse loss)\n",
        "\n",
        "model = Sequential()\n",
        "# Input + first hidden\n",
        "model.add(Dense(32, activation='relu', input_shape=(9,)))\n",
        "# additional hidden layers\n",
        "model.add(Dense(16, activation='relu'))\n",
        "model.add(Dense(8, activation='relu'))\n",
        "# output layer: 2 units, Softmax to get [p(class=0), p(class=1)]\n",
        "model.add(Dense(2, activation='softmax'))\n",
        "\n",
        "\n"
      ],
      "metadata": {
        "id": "-cLAOWZRzybs"
      },
      "execution_count": null,
      "outputs": []
    },
    {
      "cell_type": "code",
      "source": [
        "#4\n",
        "\n",
        "# Compile with sparse categorical loss so you can keep y as 0/1 ints\n",
        "model.compile(\n",
        "    optimizer='adam',\n",
        "    loss='sparse_categorical_crossentropy',\n",
        "    metrics=['accuracy']\n",
        ")\n",
        "\n",
        "model.summary()"
      ],
      "metadata": {
        "id": "ltZQJlAi2xf-"
      },
      "execution_count": null,
      "outputs": []
    },
    {
      "cell_type": "code",
      "source": [
        "#5\n",
        "\n",
        "history = model.fit(\n",
        "    X_train,         # your normalized training inputs\n",
        "    y_train,         # your integer labels (0 or 1)\n",
        "    epochs=30,       # number of full passes over the data\n",
        "    batch_size=32,   # how many samples per gradient update\n",
        "    validation_split=0.2,  # reserve 20% of X_train/y_train for validation\n",
        "    verbose=1        # shows progress bar\n",
        ")\n"
      ],
      "metadata": {
        "id": "8tKPQCCX28eQ"
      },
      "execution_count": null,
      "outputs": []
    },
    {
      "cell_type": "code",
      "source": [
        "#6\n",
        "\n",
        "# 1. Basic evaluation\n",
        "test_loss, test_acc = model.evaluate(X_test, y_test, verbose=0)\n",
        "print(f\"Test Loss:     {test_loss:.4f}\")\n",
        "print(f\"Test Accuracy: {test_acc:.4f}\")\n",
        "\n",
        "# 2. (Optional) Detailed metrics\n",
        "import numpy as np\n",
        "from sklearn.metrics import classification_report\n",
        "\n",
        "# get probability outputs, then pick the class with highest score\n",
        "y_prob = model.predict(X_test)\n",
        "y_pred = np.argmax(y_prob, axis=1)\n",
        "\n",
        "print(\"\\nClassification Report:\")\n",
        "print(classification_report(y_test, y_pred, digits=4))\n"
      ],
      "metadata": {
        "id": "Xwvr3bUW3K7v"
      },
      "execution_count": null,
      "outputs": []
    },
    {
      "cell_type": "code",
      "source": [
        "# no extra dependencies needed\n",
        "model.save('tic-tac-toe.keras')\n"
      ],
      "metadata": {
        "id": "ZB1L3d-e3bHD"
      },
      "execution_count": null,
      "outputs": []
    },
    {
      "cell_type": "markdown",
      "metadata": {
        "id": "HvZpOU7VzG2J"
      },
      "source": [
        "## Step 3: Make Predictions\n",
        "\n",
        "Now load your saved model and use it to make predictions on a few random rows in the test dataset. Check if the predictions are correct."
      ]
    },
    {
      "cell_type": "code",
      "execution_count": null,
      "metadata": {
        "id": "bK64_nKqzG2J"
      },
      "outputs": [],
      "source": [
        "# 1. Get predicted probabilities\n",
        "y_prob = model.predict(X_test)\n",
        "\n",
        "# 2. Turn into class labels (for softmax output)\n",
        "import numpy as np\n",
        "y_pred = np.argmax(y_prob, axis=1)\n",
        "\n",
        "# 3. Compute accuracy\n",
        "from sklearn.metrics import accuracy_score\n",
        "accuracy = accuracy_score(y_test, y_pred)\n",
        "print(f\"Test accuracy: {accuracy:.4f}\")\n"
      ]
    },
    {
      "cell_type": "markdown",
      "metadata": {
        "id": "dVPWLn7YzG2J"
      },
      "source": [
        "## Step 4: Improve Your Model\n",
        "\n",
        "Did your model achieve low loss (<0.1) and high accuracy (>0.95)? If not, try to improve your model.\n",
        "\n",
        "But how? There are so many things you can play with in Tensorflow and in the next challenge you'll learn about these things. But in this challenge, let's just do a few things to see if they will help.\n",
        "\n",
        "* Add more layers to your model. If the data are complex you need more layers. But don't use more layers than you need. If adding more layers does not improve the model performance you don't need additional layers.\n",
        "* Adjust the learning rate when you compile the model. This means you will create a custom `tf.keras.optimizers.Adam` instance where you specify the learning rate you want. Then pass the instance to `model.compile` as the optimizer.\n",
        "    * `tf.keras.optimizers.Adam` [reference](https://www.tensorflow.org/api_docs/python/tf/keras/optimizers/Adam).\n",
        "    * Don't worry if you don't understand what the learning rate does. You'll learn about it in the next challenge.\n",
        "* Adjust the number of epochs when you fit the training data to the model. Your model performance continues to improve as you train more epochs. But eventually it will reach the ceiling and the performance will stay the same."
      ]
    },
    {
      "cell_type": "code",
      "execution_count": null,
      "metadata": {
        "id": "Ly0fmsRHzG2K"
      },
      "outputs": [],
      "source": [
        "# your code here"
      ]
    },
    {
      "cell_type": "markdown",
      "metadata": {
        "id": "uX5eMt1vzG2K"
      },
      "source": [
        "**Which approach(es) did you find helpful to improve your model performance?**"
      ]
    },
    {
      "cell_type": "code",
      "execution_count": null,
      "metadata": {
        "id": "g1blr0BlzG2K"
      },
      "outputs": [],
      "source": [
        "# your answer here"
      ]
    }
  ],
  "metadata": {
    "kernelspec": {
      "display_name": "ironhack",
      "language": "python",
      "name": "python3"
    },
    "language_info": {
      "codemirror_mode": {
        "name": "ipython",
        "version": 3
      },
      "file_extension": ".py",
      "mimetype": "text/x-python",
      "name": "python",
      "nbconvert_exporter": "python",
      "pygments_lexer": "ipython3",
      "version": "3.10.18"
    },
    "colab": {
      "provenance": []
    }
  },
  "nbformat": 4,
  "nbformat_minor": 0
}